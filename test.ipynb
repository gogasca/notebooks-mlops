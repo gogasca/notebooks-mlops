{
  "cells": [
    {
      "cell_type": "code",
      "id": "tGHioMpLpfQx4tXmiCSSRuXF",
      "metadata": {
        "tags": [],
        "id": "tGHioMpLpfQx4tXmiCSSRuXF"
      },
      "source": [
        "print(123)"
      ],
      "execution_count": null,
      "outputs": []
    }
  ],
  "metadata": {
    "kernelspec": {
      "display_name": "Python 3",
      "language": "python",
      "name": "python3"
    },
    "language_info": {
      "codemirror_mode": {
        "name": "ipython",
        "version": 3
      },
      "file_extension": ".py",
      "mimetype": "text/x-python",
      "name": "python",
      "nbconvert_exporter": "python",
      "pygments_lexer": "ipython3",
      "version": "3.10.10"
    },
    "colab": {
      "provenance": [],
      "name": "gogasca (Aug 12, 2024, 10:43:34 PM)"
    }
  },
  "nbformat": 4,
  "nbformat_minor": 5
}
