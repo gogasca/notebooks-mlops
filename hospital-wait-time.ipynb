{
 "cells": [
  {
   "cell_type": "markdown",
   "metadata": {},
   "source": [
    "\n",
    "# About the data:\n",
    "\n",
    "## The data is about hospital patient data.\n",
    "## The problem statement is: the clinic has gotten several complaints regarding wait times.\n",
    " ____________\n",
    "## -- The requirements are:\n",
    "### Dose the patient type affect the waiting time?\n",
    "### Is there a specific type of patient waiting a long time?\n",
    "### Are we too busy?\n",
    "### Do we have staffing issues?\n",
    "### How much the patients wait before the doctor can see them?\n",
    "### What type of staff do we need or where do we need them?\n",
    "### What days of the week are affected?\n",
    "### How can we fix it?"
   ]
  },
  {
   "cell_type": "code",
   "execution_count": null,
   "metadata": {},
   "outputs": [],
   "source": [
    "!pip install openpyxl\n",
    "!pip install pandas==1.3.5"
   ]
  },
  {
   "cell_type": "code",
   "execution_count": null,
   "metadata": {
    "execution": {
     "iopub.execute_input": "2023-04-14T17:19:12.444629Z",
     "iopub.status.busy": "2023-04-14T17:19:12.44416Z",
     "iopub.status.idle": "2023-04-14T17:19:13.561827Z",
     "shell.execute_reply": "2023-04-14T17:19:13.560652Z",
     "shell.execute_reply.started": "2023-04-14T17:19:12.444574Z"
    }
   },
   "outputs": [],
   "source": [
    "import pandas as pp\n",
    "import numpy as nn\n",
    "import plotly.express as px\n",
    "import plotly.offline as py\n",
    "template_style = \"plotly_dark\"\n",
    "%matplotlib inline"
   ]
  },
  {
   "cell_type": "code",
   "execution_count": null,
   "metadata": {
    "execution": {
     "iopub.execute_input": "2023-04-14T17:19:13.564892Z",
     "iopub.status.busy": "2023-04-14T17:19:13.564115Z",
     "iopub.status.idle": "2023-04-14T17:19:20.130366Z",
     "shell.execute_reply": "2023-04-14T17:19:20.129332Z",
     "shell.execute_reply.started": "2023-04-14T17:19:13.564842Z"
    }
   },
   "outputs": [],
   "source": [
    "df = pp.read_excel('hospital_data_sampleee.xlsx')      #read the file \n",
    "df.head(2)"
   ]
  },
  {
   "cell_type": "markdown",
   "metadata": {},
   "source": [
    "## EDA/CLEANING"
   ]
  },
  {
   "cell_type": "code",
   "execution_count": null,
   "metadata": {
    "execution": {
     "iopub.execute_input": "2023-04-14T17:19:20.132703Z",
     "iopub.status.busy": "2023-04-14T17:19:20.132079Z",
     "iopub.status.idle": "2023-04-14T17:19:20.163924Z",
     "shell.execute_reply": "2023-04-14T17:19:20.162396Z",
     "shell.execute_reply.started": "2023-04-14T17:19:20.132668Z"
    }
   },
   "outputs": [],
   "source": [
    "df.info()       #the information of the data"
   ]
  },
  {
   "cell_type": "code",
   "execution_count": null,
   "metadata": {
    "execution": {
     "iopub.execute_input": "2023-04-14T17:19:20.166521Z",
     "iopub.status.busy": "2023-04-14T17:19:20.16602Z",
     "iopub.status.idle": "2023-04-14T17:19:20.173333Z",
     "shell.execute_reply": "2023-04-14T17:19:20.172197Z",
     "shell.execute_reply.started": "2023-04-14T17:19:20.166485Z"
    }
   },
   "outputs": [],
   "source": [
    "df.shape"
   ]
  },
  {
   "cell_type": "code",
   "execution_count": null,
   "metadata": {
    "execution": {
     "iopub.execute_input": "2023-04-14T17:19:20.175958Z",
     "iopub.status.busy": "2023-04-14T17:19:20.175513Z",
     "iopub.status.idle": "2023-04-14T17:19:20.228168Z",
     "shell.execute_reply": "2023-04-14T17:19:20.226996Z",
     "shell.execute_reply.started": "2023-04-14T17:19:20.175927Z"
    }
   },
   "outputs": [],
   "source": [
    "df.duplicated().sum()           #Is there any duplicated values?"
   ]
  },
  {
   "cell_type": "code",
   "execution_count": null,
   "metadata": {
    "execution": {
     "iopub.execute_input": "2023-04-14T17:19:20.2302Z",
     "iopub.status.busy": "2023-04-14T17:19:20.229409Z",
     "iopub.status.idle": "2023-04-14T17:19:20.259137Z",
     "shell.execute_reply": "2023-04-14T17:19:20.257715Z",
     "shell.execute_reply.started": "2023-04-14T17:19:20.230155Z"
    }
   },
   "outputs": [],
   "source": [
    "df.isnull().sum().sort_values(ascending=False)          #is there any NULL values?"
   ]
  },
  {
   "cell_type": "code",
   "execution_count": null,
   "metadata": {
    "execution": {
     "iopub.execute_input": "2023-04-14T17:19:20.26144Z",
     "iopub.status.busy": "2023-04-14T17:19:20.261044Z",
     "iopub.status.idle": "2023-04-14T17:19:20.306522Z",
     "shell.execute_reply": "2023-04-14T17:19:20.305083Z",
     "shell.execute_reply.started": "2023-04-14T17:19:20.261402Z"
    }
   },
   "outputs": [],
   "source": [
    "df.nunique()"
   ]
  },
  {
   "cell_type": "code",
   "execution_count": null,
   "metadata": {
    "execution": {
     "iopub.execute_input": "2023-04-14T17:19:20.308728Z",
     "iopub.status.busy": "2023-04-14T17:19:20.308174Z",
     "iopub.status.idle": "2023-04-14T17:19:20.31793Z",
     "shell.execute_reply": "2023-04-14T17:19:20.31674Z",
     "shell.execute_reply.started": "2023-04-14T17:19:20.308679Z"
    }
   },
   "outputs": [],
   "source": [
    "df_copy = df.copy()         # always make sure u keep a copy"
   ]
  },
  {
   "cell_type": "code",
   "execution_count": null,
   "metadata": {
    "execution": {
     "iopub.execute_input": "2023-04-14T17:19:20.320167Z",
     "iopub.status.busy": "2023-04-14T17:19:20.319278Z",
     "iopub.status.idle": "2023-04-14T17:19:20.326724Z",
     "shell.execute_reply": "2023-04-14T17:19:20.325632Z",
     "shell.execute_reply.started": "2023-04-14T17:19:20.320126Z"
    }
   },
   "outputs": [],
   "source": [
    "df.columns = df.columns.str.strip().str.lower().str.replace(\" \", \"_\").str.replace(\"-\",\"_\" )       ## change the names forms"
   ]
  },
  {
   "cell_type": "code",
   "execution_count": null,
   "metadata": {
    "execution": {
     "iopub.execute_input": "2023-04-14T17:19:20.32879Z",
     "iopub.status.busy": "2023-04-14T17:19:20.32844Z",
     "iopub.status.idle": "2023-04-14T17:19:20.350512Z",
     "shell.execute_reply": "2023-04-14T17:19:20.349347Z",
     "shell.execute_reply.started": "2023-04-14T17:19:20.328748Z"
    }
   },
   "outputs": [],
   "source": [
    "df.head()"
   ]
  },
  {
   "cell_type": "markdown",
   "metadata": {},
   "source": [
    "### let's look at every single columns"
   ]
  },
  {
   "cell_type": "code",
   "execution_count": null,
   "metadata": {
    "execution": {
     "iopub.execute_input": "2023-04-14T17:19:20.356275Z",
     "iopub.status.busy": "2023-04-14T17:19:20.355386Z",
     "iopub.status.idle": "2023-04-14T17:19:20.366336Z",
     "shell.execute_reply": "2023-04-14T17:19:20.365073Z",
     "shell.execute_reply.started": "2023-04-14T17:19:20.356221Z"
    }
   },
   "outputs": [],
   "source": [
    "df.date.value_counts().sort_index()"
   ]
  },
  {
   "cell_type": "code",
   "execution_count": null,
   "metadata": {
    "execution": {
     "iopub.execute_input": "2023-04-14T17:19:20.368041Z",
     "iopub.status.busy": "2023-04-14T17:19:20.367697Z",
     "iopub.status.idle": "2023-04-14T17:19:20.383621Z",
     "shell.execute_reply": "2023-04-14T17:19:20.382452Z",
     "shell.execute_reply.started": "2023-04-14T17:19:20.36799Z"
    }
   },
   "outputs": [],
   "source": [
    "df.medication_revenue.value_counts()"
   ]
  },
  {
   "cell_type": "code",
   "execution_count": null,
   "metadata": {
    "execution": {
     "iopub.execute_input": "2023-04-14T17:19:20.385955Z",
     "iopub.status.busy": "2023-04-14T17:19:20.38516Z",
     "iopub.status.idle": "2023-04-14T17:19:20.396554Z",
     "shell.execute_reply": "2023-04-14T17:19:20.39537Z",
     "shell.execute_reply.started": "2023-04-14T17:19:20.385917Z"
    }
   },
   "outputs": [],
   "source": [
    "df.lab_cost.value_counts()"
   ]
  },
  {
   "cell_type": "code",
   "execution_count": null,
   "metadata": {
    "execution": {
     "iopub.execute_input": "2023-04-14T17:19:20.399649Z",
     "iopub.status.busy": "2023-04-14T17:19:20.399173Z",
     "iopub.status.idle": "2023-04-14T17:19:20.412705Z",
     "shell.execute_reply": "2023-04-14T17:19:20.411483Z",
     "shell.execute_reply.started": "2023-04-14T17:19:20.399603Z"
    }
   },
   "outputs": [],
   "source": [
    "df.consultation_revenue.value_counts()"
   ]
  },
  {
   "cell_type": "code",
   "execution_count": null,
   "metadata": {
    "execution": {
     "iopub.execute_input": "2023-04-14T17:19:20.415404Z",
     "iopub.status.busy": "2023-04-14T17:19:20.414728Z",
     "iopub.status.idle": "2023-04-14T17:19:20.427115Z",
     "shell.execute_reply": "2023-04-14T17:19:20.426038Z",
     "shell.execute_reply.started": "2023-04-14T17:19:20.415365Z"
    }
   },
   "outputs": [],
   "source": [
    "df.doctor_type.value_counts()"
   ]
  },
  {
   "cell_type": "code",
   "execution_count": null,
   "metadata": {
    "execution": {
     "iopub.execute_input": "2023-04-14T17:19:20.430876Z",
     "iopub.status.busy": "2023-04-14T17:19:20.430479Z",
     "iopub.status.idle": "2023-04-14T17:19:20.439987Z",
     "shell.execute_reply": "2023-04-14T17:19:20.439203Z",
     "shell.execute_reply.started": "2023-04-14T17:19:20.430845Z"
    }
   },
   "outputs": [],
   "source": [
    "df.financial_class.value_counts()"
   ]
  },
  {
   "cell_type": "code",
   "execution_count": null,
   "metadata": {
    "execution": {
     "iopub.execute_input": "2023-04-14T17:19:20.44184Z",
     "iopub.status.busy": "2023-04-14T17:19:20.44126Z",
     "iopub.status.idle": "2023-04-14T17:19:20.454173Z",
     "shell.execute_reply": "2023-04-14T17:19:20.453043Z",
     "shell.execute_reply.started": "2023-04-14T17:19:20.441807Z"
    }
   },
   "outputs": [],
   "source": [
    "df.patient_type.value_counts()"
   ]
  },
  {
   "cell_type": "code",
   "execution_count": null,
   "metadata": {
    "execution": {
     "iopub.execute_input": "2023-04-14T17:19:20.456493Z",
     "iopub.status.busy": "2023-04-14T17:19:20.455761Z",
     "iopub.status.idle": "2023-04-14T17:19:20.480737Z",
     "shell.execute_reply": "2023-04-14T17:19:20.479583Z",
     "shell.execute_reply.started": "2023-04-14T17:19:20.456433Z"
    }
   },
   "outputs": [],
   "source": [
    "df.entry_time.value_counts()"
   ]
  },
  {
   "cell_type": "code",
   "execution_count": null,
   "metadata": {
    "execution": {
     "iopub.execute_input": "2023-04-14T17:19:20.484454Z",
     "iopub.status.busy": "2023-04-14T17:19:20.484067Z",
     "iopub.status.idle": "2023-04-14T17:19:20.506665Z",
     "shell.execute_reply": "2023-04-14T17:19:20.505198Z",
     "shell.execute_reply.started": "2023-04-14T17:19:20.484417Z"
    }
   },
   "outputs": [],
   "source": [
    "df.post_consultation_time.value_counts()"
   ]
  },
  {
   "cell_type": "code",
   "execution_count": null,
   "metadata": {
    "execution": {
     "iopub.execute_input": "2023-04-14T17:19:20.508229Z",
     "iopub.status.busy": "2023-04-14T17:19:20.507919Z",
     "iopub.status.idle": "2023-04-14T17:19:20.531072Z",
     "shell.execute_reply": "2023-04-14T17:19:20.52987Z",
     "shell.execute_reply.started": "2023-04-14T17:19:20.508199Z"
    }
   },
   "outputs": [],
   "source": [
    "df.completion_time.value_counts()"
   ]
  },
  {
   "cell_type": "code",
   "execution_count": null,
   "metadata": {
    "execution": {
     "iopub.execute_input": "2023-04-14T17:19:20.532978Z",
     "iopub.status.busy": "2023-04-14T17:19:20.532614Z",
     "iopub.status.idle": "2023-04-14T17:19:20.559335Z",
     "shell.execute_reply": "2023-04-14T17:19:20.558383Z",
     "shell.execute_reply.started": "2023-04-14T17:19:20.532942Z"
    }
   },
   "outputs": [],
   "source": [
    "df.patient_id.value_counts()"
   ]
  },
  {
   "cell_type": "markdown",
   "metadata": {},
   "source": [
    "### (EDA)"
   ]
  },
  {
   "cell_type": "code",
   "execution_count": null,
   "metadata": {
    "execution": {
     "iopub.execute_input": "2023-04-14T17:19:20.560982Z",
     "iopub.status.busy": "2023-04-14T17:19:20.56057Z",
     "iopub.status.idle": "2023-04-14T17:19:20.56983Z",
     "shell.execute_reply": "2023-04-14T17:19:20.568608Z",
     "shell.execute_reply.started": "2023-04-14T17:19:20.560939Z"
    }
   },
   "outputs": [],
   "source": [
    "df.dtypes"
   ]
  },
  {
   "cell_type": "markdown",
   "metadata": {},
   "source": [
    "### We don't have the data for patient time waiting, so let's add the timing by sub 'entry time' - 'completion time'"
   ]
  },
  {
   "cell_type": "markdown",
   "metadata": {},
   "source": [
    "### We cant sub two dates.time so we need to change 'entry_time' , 'post_consultation_time' , 'completion_time' to_timedelta"
   ]
  },
  {
   "cell_type": "code",
   "execution_count": null,
   "metadata": {
    "execution": {
     "iopub.execute_input": "2023-04-14T17:19:20.572764Z",
     "iopub.status.busy": "2023-04-14T17:19:20.571277Z",
     "iopub.status.idle": "2023-04-14T17:19:20.782871Z",
     "shell.execute_reply": "2023-04-14T17:19:20.78182Z",
     "shell.execute_reply.started": "2023-04-14T17:19:20.572718Z"
    }
   },
   "outputs": [],
   "source": [
    "df.completion_time = pp.to_timedelta(df.completion_time.astype(str))\n",
    "df.entry_time = pp.to_timedelta(df.entry_time.astype(str))\n",
    "df.post_consultation_time = pp.to_timedelta(df.post_consultation_time.astype(str))"
   ]
  },
  {
   "cell_type": "code",
   "execution_count": null,
   "metadata": {
    "execution": {
     "iopub.execute_input": "2023-04-14T17:19:20.785127Z",
     "iopub.status.busy": "2023-04-14T17:19:20.78419Z",
     "iopub.status.idle": "2023-04-14T17:19:20.794897Z",
     "shell.execute_reply": "2023-04-14T17:19:20.792913Z",
     "shell.execute_reply.started": "2023-04-14T17:19:20.785077Z"
    }
   },
   "outputs": [],
   "source": [
    "df.dtypes"
   ]
  },
  {
   "cell_type": "code",
   "execution_count": null,
   "metadata": {
    "execution": {
     "iopub.execute_input": "2023-04-14T17:19:20.79687Z",
     "iopub.status.busy": "2023-04-14T17:19:20.796433Z",
     "iopub.status.idle": "2023-04-14T17:19:20.825352Z",
     "shell.execute_reply": "2023-04-14T17:19:20.824409Z",
     "shell.execute_reply.started": "2023-04-14T17:19:20.796836Z"
    }
   },
   "outputs": [],
   "source": [
    "df"
   ]
  },
  {
   "cell_type": "code",
   "execution_count": null,
   "metadata": {
    "execution": {
     "iopub.execute_input": "2023-04-14T17:19:25.093871Z",
     "iopub.status.busy": "2023-04-14T17:19:25.093465Z",
     "iopub.status.idle": "2023-04-14T17:19:25.120814Z",
     "shell.execute_reply": "2023-04-14T17:19:25.119567Z",
     "shell.execute_reply.started": "2023-04-14T17:19:25.093834Z"
    }
   },
   "outputs": [],
   "source": [
    "df.info()"
   ]
  },
  {
   "cell_type": "code",
   "execution_count": null,
   "metadata": {
    "execution": {
     "iopub.execute_input": "2023-04-14T17:19:25.123007Z",
     "iopub.status.busy": "2023-04-14T17:19:25.12266Z",
     "iopub.status.idle": "2023-04-14T17:19:25.141248Z",
     "shell.execute_reply": "2023-04-14T17:19:25.140011Z",
     "shell.execute_reply.started": "2023-04-14T17:19:25.122973Z"
    }
   },
   "outputs": [],
   "source": [
    "df.head(2)"
   ]
  },
  {
   "cell_type": "markdown",
   "metadata": {},
   "source": [
    "#### just ignore the 0 days"
   ]
  },
  {
   "cell_type": "markdown",
   "metadata": {},
   "source": [
    "### We just need the 'waiting_time', but ill add some more to make it easy for me"
   ]
  },
  {
   "cell_type": "code",
   "execution_count": null,
   "metadata": {
    "execution": {
     "iopub.execute_input": "2023-04-14T17:19:26.168891Z",
     "iopub.status.busy": "2023-04-14T17:19:26.168472Z",
     "iopub.status.idle": "2023-04-14T17:19:26.691448Z",
     "shell.execute_reply": "2023-04-14T17:19:26.690322Z",
     "shell.execute_reply.started": "2023-04-14T17:19:26.168854Z"
    }
   },
   "outputs": [],
   "source": [
    "df['waiting_time'] = df['completion_time'] - df['entry_time']  # new column for Calculator 'waiting_time'\n",
    "###\n",
    "df['waiting_ber_munets'] = df.waiting_time.dt.seconds / 60     # new column for Calculator 'waiting_ber_munets'\n",
    "df['waiting_ber_munets'] = df['waiting_ber_munets'].round(0)\n",
    "####\n",
    "df['weekday'] = df.date.dt.strftime('%A')                      # new column for extract 'weekday' from 'date'\n",
    "df['hours'] = df.entry_time.dt.components.hours                # new column for extract the  'hours' from 'entry_time'\n",
    "df.head()"
   ]
  },
  {
   "cell_type": "markdown",
   "metadata": {},
   "source": [
    "### The first thing they want to know is: Dose the patient type affect the waiting time? , And is there a specific type of patients waiting a long time?"
   ]
  },
  {
   "cell_type": "code",
   "execution_count": null,
   "metadata": {
    "execution": {
     "iopub.execute_input": "2023-04-14T17:19:26.693961Z",
     "iopub.status.busy": "2023-04-14T17:19:26.693642Z",
     "iopub.status.idle": "2023-04-14T17:19:26.705301Z",
     "shell.execute_reply": "2023-04-14T17:19:26.703939Z",
     "shell.execute_reply.started": "2023-04-14T17:19:26.69393Z"
    }
   },
   "outputs": [],
   "source": [
    "df.patient_type.value_counts()          #checking the values of 'patient_type'"
   ]
  },
  {
   "cell_type": "code",
   "execution_count": null,
   "metadata": {
    "execution": {
     "iopub.execute_input": "2023-04-14T17:19:26.708644Z",
     "iopub.status.busy": "2023-04-14T17:19:26.708233Z",
     "iopub.status.idle": "2023-04-14T17:19:26.723174Z",
     "shell.execute_reply": "2023-04-14T17:19:26.721888Z",
     "shell.execute_reply.started": "2023-04-14T17:19:26.708608Z"
    }
   },
   "outputs": [],
   "source": [
    "df.financial_class.value_counts()"
   ]
  },
  {
   "cell_type": "markdown",
   "metadata": {},
   "source": [
    "### We just have one type of patient in the 'patient_type', but if we can use 'financial_class' I think we can answer the Q"
   ]
  },
  {
   "cell_type": "markdown",
   "metadata": {},
   "source": [
    "#### And we will do the same for 'Weekday' later (the second Q) , so let's build a function for Groupby"
   ]
  },
  {
   "cell_type": "code",
   "execution_count": null,
   "metadata": {
    "execution": {
     "iopub.execute_input": "2023-04-14T17:19:26.725141Z",
     "iopub.status.busy": "2023-04-14T17:19:26.724783Z",
     "iopub.status.idle": "2023-04-14T17:19:26.766925Z",
     "shell.execute_reply": "2023-04-14T17:19:26.765714Z",
     "shell.execute_reply.started": "2023-04-14T17:19:26.725089Z"
    }
   },
   "outputs": [],
   "source": [
    "\n",
    "# Groupby as a function\n",
    "def grouped_data(column_name):\n",
    "    '''\n",
    "    Groupby column and return DataFrame\n",
    "    Input: Column Name\n",
    "    '''\n",
    "    df_tmp = df.groupby(column_name)[['waiting_ber_munets']].mean().round(0)\n",
    "    df_tmp2 = df[column_name].value_counts()      #this for concat\n",
    "    \n",
    "    pivot_F = pp.concat([df_tmp, df_tmp2.rename('number_of_patient')],axis=1)\n",
    "    pivot_F.reset_index(inplace=True)\n",
    "    pivot_F = pivot_F.rename(columns={'index': column_name })\n",
    "    return pivot_F\n",
    "    \n",
    "answer1 =  grouped_data('financial_class')\n",
    "answer2 =  grouped_data('weekday')\n",
    "print(answer1 , answer2)              #checking\n"
   ]
  },
  {
   "cell_type": "code",
   "execution_count": null,
   "metadata": {
    "execution": {
     "iopub.execute_input": "2023-04-14T17:19:31.102111Z",
     "iopub.status.busy": "2023-04-14T17:19:31.101714Z",
     "iopub.status.idle": "2023-04-14T17:19:31.37644Z",
     "shell.execute_reply": "2023-04-14T17:19:31.375423Z",
     "shell.execute_reply.started": "2023-04-14T17:19:31.102075Z"
    }
   },
   "outputs": [],
   "source": [
    "fig = px.pie(answer1, values='number_of_patient', \n",
    "             names= 'financial_class' , hole=0.6 , width=600,height=600 , \n",
    "             template=template_style ,\n",
    "             hover_data=['waiting_ber_munets'], \n",
    "             labels={'waiting_ber_munets':'the waiting time per m'})\n",
    "fig.update_traces(textposition='outside', textinfo='percent+label')\n",
    "fig.show()\n",
    "# py.offline.plot(fig, filename='{}.html'.format(r\"C:\\\" File Path \"\\\\\"),\n",
    "#                 auto_open=False, image_width=1600,\n",
    "#                         image_height=900)                     #import the plot to html file"
   ]
  },
  {
   "cell_type": "markdown",
   "metadata": {},
   "source": [
    "## So the Q was: Dose the patient type affect the waiting time?\n",
    "\n",
    "#### We can see that : \n",
    "#### - The 'INSURANCE' type of patient is (33.1%) of our patients and they are (9931 patients) and they waiting (44 min ) on average. \n",
    "#### - The 'PRIVATE' type of patient is (30.4%) of our patients and they are (9121 patients) and they waiting (40 min ) on average. \n",
    "#### - The 'CORPORATE' type of patient is (23.1%) of our patients and they are (6915 patients) and they wait (46 min ) on average. \n",
    "#### - The 'HMO' type of patient is (12.5%) of our patients and they are (3738 patients) and they waiting (46 min ) on average. \n",
    "#### - The 'MEDICARE' type of patient is (1%) of our patients and they are (293 patients) and they waiting (58 min ) on average. \n",
    "\n",
    "#### SO No the patient type does not give that big effect on the waiting time, BUT if you 'MEDICARE' type of patient your chance to wait long is higher."
   ]
  },
  {
   "cell_type": "markdown",
   "metadata": {},
   "source": [
    "_________________________________________"
   ]
  },
  {
   "cell_type": "markdown",
   "metadata": {},
   "source": [
    "## Is there a specific type of patient waiting a long time?\n",
    "\n",
    "#### Yes there is a specific type of patient waiting a long time, and that type is MEDICARE and they wait (58 min) on average."
   ]
  },
  {
   "cell_type": "markdown",
   "metadata": {},
   "source": [
    "___________________________________________________________________"
   ]
  },
  {
   "cell_type": "markdown",
   "metadata": {},
   "source": [
    "## Are we too busy?\n",
    "#### I'll do daily and hourly visualization to answer the Q, and build two heatmaps one for 'wait time' and the second for 'the number of patients, so lets make a function to make it easy"
   ]
  },
  {
   "cell_type": "code",
   "execution_count": null,
   "metadata": {
    "execution": {
     "iopub.execute_input": "2023-04-14T17:19:31.379418Z",
     "iopub.status.busy": "2023-04-14T17:19:31.378941Z",
     "iopub.status.idle": "2023-04-14T17:19:31.461415Z",
     "shell.execute_reply": "2023-04-14T17:19:31.460015Z",
     "shell.execute_reply.started": "2023-04-14T17:19:31.379371Z"
    }
   },
   "outputs": [],
   "source": [
    "def grouped_data2(column_name):\n",
    "    if column_name == 'completion_time':                                            # if column_name == 'completion_time' do the following\n",
    "        answer = pp.pivot_table(df, index='hours',                                  # make a pivot_table and aggfunc 'count'\n",
    "                                columns=['weekday'], aggfunc= 'count')\n",
    "        answer.drop(answer.iloc[: , 7:], axis=1, inplace=True)                      # Drop the columns [: , 7:]\n",
    "    elif column_name == 'waiting_ber_munets':                                       # if column_name == 'waiting_ber_munets' do the following\n",
    "        answer = pp.pivot_table(df, index='hours',                                  # make a pivot_table and aggfunc 'mean'\n",
    "                                columns=['weekday'] , aggfunc= 'mean').round(1)  \n",
    "    else:\n",
    "        return(column_name + \" is not in the columns\")                              # if the giving value is else print this statment\n",
    "    \n",
    "    answer = answer[column_name]\n",
    "    answer = answer.fillna(0)\n",
    "    answer = answer[['Sunday', 'Monday', 'Tuesday',                                 # sorting\n",
    "                  'Wednesday', 'Thursday', \n",
    "                  'Friday', 'Saturday']] \n",
    "    return answer\n",
    "answer3 =  grouped_data2('completion_time')\n",
    "answer4 =  grouped_data2('waiting_ber_munets')\n",
    "print(answer3,answer4)      #checking"
   ]
  },
  {
   "cell_type": "code",
   "execution_count": null,
   "metadata": {
    "execution": {
     "iopub.execute_input": "2023-04-14T17:19:31.46351Z",
     "iopub.status.busy": "2023-04-14T17:19:31.463127Z",
     "iopub.status.idle": "2023-04-14T17:19:31.657402Z",
     "shell.execute_reply": "2023-04-14T17:19:31.656204Z",
     "shell.execute_reply.started": "2023-04-14T17:19:31.463465Z"
    }
   },
   "outputs": [],
   "source": [
    "fig3 = px.imshow(answer3,\n",
    "                labels=dict(x=\"weekday\", y=\"hours\", color=\"number of paitant\") , \n",
    "                aspect=\"auto\", color_continuous_scale='tempo',\n",
    "                template = template_style, title=\"Daily/hourly visualization\",\n",
    "                text_auto=True, width=700, height=700)\n",
    "fig3.update_xaxes(side=\"top\")\n",
    "fig3.show()"
   ]
  },
  {
   "cell_type": "markdown",
   "metadata": {},
   "source": [
    "#### I assumed that the highest number of patients = the longest wait time.\n",
    "#### I noticed that there are times in the day when the number of patients is low, and these times are: (7 hour) and (13 hour) and (17 hour) and (21, and after)"
   ]
  },
  {
   "cell_type": "code",
   "execution_count": null,
   "metadata": {
    "execution": {
     "iopub.execute_input": "2023-04-14T17:19:35.871936Z",
     "iopub.status.busy": "2023-04-14T17:19:35.871535Z",
     "iopub.status.idle": "2023-04-14T17:19:35.927195Z",
     "shell.execute_reply": "2023-04-14T17:19:35.925846Z",
     "shell.execute_reply.started": "2023-04-14T17:19:35.871898Z"
    }
   },
   "outputs": [],
   "source": [
    "fig4 = px.imshow(answer4,\n",
    "                labels=dict(x=\"weekday\", y=\"hours\",\n",
    "                            color=\"the waiting time per min\") , \n",
    "                            aspect=\"auto\", color_continuous_scale='tempo',\n",
    "                            template = template_style,\n",
    "                            text_auto=True, width=700, height=700)\n",
    "fig4.update_xaxes(side=\"top\")\n",
    "fig4.show()"
   ]
  },
  {
   "cell_type": "markdown",
   "metadata": {},
   "source": [
    "### Yes, we are too busy in the morning period and at 13 hour\n",
    "#### In the first heatMap I thoughts it will be less wait time for patients at 7, 13, 17, 21, 22, and 23, But here I found that the rushed time for waiting started at 7 on(Tuesday, Wednesday, Thursday, Saturday) and reach the peak at 9, and decrease after, and start increasing at 13 and decreased after, and increased at 17 Until 20 after that it's decreasing, that means we are short in staff, but im curious about the 7 hour, why the wait time is hghi?"
   ]
  },
  {
   "cell_type": "code",
   "execution_count": null,
   "metadata": {
    "execution": {
     "iopub.execute_input": "2023-04-14T17:19:35.929677Z",
     "iopub.status.busy": "2023-04-14T17:19:35.929287Z",
     "iopub.status.idle": "2023-04-14T17:19:35.934825Z",
     "shell.execute_reply": "2023-04-14T17:19:35.93388Z",
     "shell.execute_reply.started": "2023-04-14T17:19:35.929642Z"
    }
   },
   "outputs": [],
   "source": [
    "def morining(colmun_n):\n",
    "    ddf = df[['entry_time' , 'post_consultation_time' , 'completion_time' , 'waiting_ber_munets']].sort_values(by= colmun_n ).head(10)\n",
    "    return ddf"
   ]
  },
  {
   "cell_type": "code",
   "execution_count": null,
   "metadata": {
    "execution": {
     "iopub.execute_input": "2023-04-14T17:19:35.936517Z",
     "iopub.status.busy": "2023-04-14T17:19:35.9359Z",
     "iopub.status.idle": "2023-04-14T17:19:35.959222Z",
     "shell.execute_reply": "2023-04-14T17:19:35.958392Z",
     "shell.execute_reply.started": "2023-04-14T17:19:35.936479Z"
    }
   },
   "outputs": [],
   "source": [
    "morining('entry_time').head(2)"
   ]
  },
  {
   "cell_type": "markdown",
   "metadata": {},
   "source": [
    "#### It seems that the patients enter after 7:50 so maybe the clinic(OUTPATIENT) Starts at 8:00 "
   ]
  },
  {
   "cell_type": "code",
   "execution_count": null,
   "metadata": {
    "execution": {
     "iopub.execute_input": "2023-04-14T17:19:35.961678Z",
     "iopub.status.busy": "2023-04-14T17:19:35.96059Z",
     "iopub.status.idle": "2023-04-14T17:19:35.980443Z",
     "shell.execute_reply": "2023-04-14T17:19:35.979256Z",
     "shell.execute_reply.started": "2023-04-14T17:19:35.961629Z"
    }
   },
   "outputs": [],
   "source": [
    "morining('post_consultation_time').head(2)"
   ]
  },
  {
   "cell_type": "markdown",
   "metadata": {},
   "source": [
    "#### it seems that im right the(OUTPATIENT) started at 8:07"
   ]
  },
  {
   "cell_type": "markdown",
   "metadata": {},
   "source": [
    "### I'll build another chart to make sure that we are having a staff issue and nothing else"
   ]
  },
  {
   "cell_type": "code",
   "execution_count": null,
   "metadata": {
    "execution": {
     "iopub.execute_input": "2023-04-14T17:19:35.984147Z",
     "iopub.status.busy": "2023-04-14T17:19:35.983717Z",
     "iopub.status.idle": "2023-04-14T17:19:36.118644Z",
     "shell.execute_reply": "2023-04-14T17:19:36.117527Z",
     "shell.execute_reply.started": "2023-04-14T17:19:35.984109Z"
    }
   },
   "outputs": [],
   "source": [
    "answer5 = grouped_data('hours')\n",
    "link_size = [3,6]\n",
    "fig = px.bar(x=answer5['hours'],\n",
    "             y=answer5['waiting_ber_munets'],\n",
    "             template= template_style,\n",
    "             text_auto='.2s',\n",
    "             labels={'x':'the hour',\n",
    "                     'y':'the waiting time per m'}\n",
    "             ).add_traces(\n",
    "      px.line(answer5, x=answer5['hours'], text='number_of_patient',\n",
    "             y=answer5['number_of_patient'],markers=True).update_traces(yaxis=\"y2\",\n",
    "             showlegend=True, line=dict(color = 'red', width=link_size[1]), name=\"number_of_patient\").data)        \n",
    "fig.update_layout(yaxis2={\"side\":\"right\", \"overlaying\":\"y\"})\n",
    "fig.show()\n"
   ]
  },
  {
   "cell_type": "markdown",
   "metadata": {},
   "source": [
    "#### Now we can see that (13 and 17) have an average wait time even though we have a lower amount of patients, so Yes it's a staffing issue"
   ]
  },
  {
   "cell_type": "markdown",
   "metadata": {},
   "source": [
    "## So how can we fix this issue?\n",
    "#### increasing our staffing at these hours (8 and 9,13 and 14,18) hours "
   ]
  },
  {
   "cell_type": "markdown",
   "metadata": {},
   "source": [
    "## What type of staff we need or where do we need them?"
   ]
  },
  {
   "cell_type": "markdown",
   "metadata": {},
   "source": [
    "### Let's break this down, we have 4 types of timing in the data,\n",
    "#### entry_time = entered the (OUTPATIENT)\n",
    "#### post_consultation_time = when the doctor tells the patients to enter the clinic room\n",
    "#### completion_time = when the patients exit the clinic room or the building\n",
    "#### waiting_time = the entire wait time spend in the hospital\n",
    "__________\n",
    "we can extract more info from these like.\n",
    "#### consultation_period = before entering to the doctor\n",
    "#### process_period = talking to the doctor\n",
    "#### consultation_perc = the % of time spend in consultation_period\n",
    "#### process_perc = is the rest of the % of the consultation_perc time"
   ]
  },
  {
   "cell_type": "code",
   "execution_count": null,
   "metadata": {
    "execution": {
     "iopub.execute_input": "2023-04-14T17:19:36.120233Z",
     "iopub.status.busy": "2023-04-14T17:19:36.119911Z",
     "iopub.status.idle": "2023-04-14T17:19:36.154257Z",
     "shell.execute_reply": "2023-04-14T17:19:36.153003Z",
     "shell.execute_reply.started": "2023-04-14T17:19:36.120201Z"
    }
   },
   "outputs": [],
   "source": [
    "df['consultation_period'] = df.post_consultation_time - df.entry_time\n",
    "df['consultation_period'] = df.consultation_period.dt.seconds / 60          \n",
    "df['consultation_period'] = df['consultation_period'].round(2)\n",
    "# consultation_period = the amount of time after entr the (OUTPATIENT) and before the doctor see the patient\n",
    "\n",
    "df['process_period'] = df.completion_time - df.post_consultation_time\n",
    "df['process_period'] = df.process_period.dt.seconds / 60                     \n",
    "df['process_period'] = df['process_period'].round(2)\n",
    "# process_period = the amount of time the patients talking to the doctort + exite the (OUTPATIENT)\n",
    "\n",
    "df['consultation_perc'] = df.consultation_period / df.waiting_ber_munets\n",
    "df['consultation_perc'] = df['consultation_perc'].round(2)\n",
    "# consultation_perc = the % of time spend in consultation_period\n",
    "\n",
    "df['process_perc'] = 1 - df.consultation_perc\n",
    "# process_perc = is the rest of the % of the consultation_perc time\n",
    "df.head(1)"
   ]
  },
  {
   "cell_type": "markdown",
   "metadata": {},
   "source": [
    "# How much the patients wait before the doctor can see them?"
   ]
  },
  {
   "cell_type": "code",
   "execution_count": null,
   "metadata": {
    "execution": {
     "iopub.execute_input": "2023-04-14T17:19:36.156275Z",
     "iopub.status.busy": "2023-04-14T17:19:36.155673Z",
     "iopub.status.idle": "2023-04-14T17:19:36.163566Z",
     "shell.execute_reply": "2023-04-14T17:19:36.162511Z",
     "shell.execute_reply.started": "2023-04-14T17:19:36.156238Z"
    }
   },
   "outputs": [],
   "source": [
    "df.consultation_period.mean()"
   ]
  },
  {
   "cell_type": "markdown",
   "metadata": {},
   "source": [
    "### The patients wait before the doctor can see them 38min in average"
   ]
  },
  {
   "cell_type": "code",
   "execution_count": null,
   "metadata": {
    "execution": {
     "iopub.execute_input": "2023-04-14T17:19:38.545214Z",
     "iopub.status.busy": "2023-04-14T17:19:38.544799Z",
     "iopub.status.idle": "2023-04-14T17:19:38.55935Z",
     "shell.execute_reply": "2023-04-14T17:19:38.558147Z",
     "shell.execute_reply.started": "2023-04-14T17:19:38.545178Z"
    }
   },
   "outputs": [],
   "source": [
    "answer6 = df[['consultation_perc', 'process_perc']].mean()\n",
    "periods = df[[ 'consultation_period', 'process_period']].mean().round(0)\n",
    "print(answer6)"
   ]
  },
  {
   "cell_type": "code",
   "execution_count": null,
   "metadata": {
    "execution": {
     "iopub.execute_input": "2023-04-14T17:19:38.561883Z",
     "iopub.status.busy": "2023-04-14T17:19:38.561236Z",
     "iopub.status.idle": "2023-04-14T17:19:38.621561Z",
     "shell.execute_reply": "2023-04-14T17:19:38.620054Z",
     "shell.execute_reply.started": "2023-04-14T17:19:38.561846Z"
    }
   },
   "outputs": [],
   "source": [
    "fig = px.pie(answer6 , names= answer6.index, \n",
    "             template=template_style, \n",
    "             values= answer6,\n",
    "             hover_name= periods.index,\n",
    "             color=periods,\n",
    "             labels={'color':'the waiting time per m '\n",
    "                     })\n",
    "fig.update_traces(textposition='outside',\n",
    "                  textinfo='percent+label')\n",
    "fig.show()"
   ]
  },
  {
   "cell_type": "markdown",
   "metadata": {},
   "source": [
    "#### soo 88% of our patient time is gone for consultation_period whats means our patients spend 88% (average 39 min)of their time waiting for the doctor and spend just 11% talking to the doctor."
   ]
  },
  {
   "cell_type": "markdown",
   "metadata": {},
   "source": [
    "### as we can see the time to wait to see the doctor is limited by the number of doctors."
   ]
  },
  {
   "cell_type": "markdown",
   "metadata": {},
   "source": [
    "### The next Q was, What days of week are affected?"
   ]
  },
  {
   "cell_type": "code",
   "execution_count": null,
   "metadata": {
    "execution": {
     "iopub.execute_input": "2023-04-14T17:19:38.854141Z",
     "iopub.status.busy": "2023-04-14T17:19:38.853267Z",
     "iopub.status.idle": "2023-04-14T17:19:38.916821Z",
     "shell.execute_reply": "2023-04-14T17:19:38.915653Z",
     "shell.execute_reply.started": "2023-04-14T17:19:38.854098Z"
    }
   },
   "outputs": [],
   "source": [
    "# Create Chart for the Daily\n",
    "fig2 = px.bar(answer2,\n",
    "             x='weekday',\n",
    "             y='number_of_patient',\n",
    "             color='waiting_ber_munets',\n",
    "             labels={'waiting_ber_munets':'the waiting time per m'} ,\n",
    "             color_continuous_scale=['green','yellow','red'],\n",
    "             template = template_style,\n",
    "             title = '<b>Daily visualization</b>')\n",
    "# Display Plot\n",
    "fig2.show()"
   ]
  },
  {
   "cell_type": "markdown",
   "metadata": {},
   "source": [
    "##  To ansowe the Q, the affected day is Monday and Wednesday.\n",
    "#### 'Monday' has a lot of patients(6982) and waiting time(49 min) (correlated)\n",
    "#### 'Wednesday' has the average number of patients(4171) but high waiting time(47 min ) (not correlated)"
   ]
  },
  {
   "cell_type": "markdown",
   "metadata": {},
   "source": [
    "# Summary: \n",
    "### There may be a possibility to add more medical staff during these times ((8 and 9,13 and 14,18) of the days), and focus on Monday and Wednesday."
   ]
  },
  {
   "cell_type": "markdown",
   "metadata": {},
   "source": [
    "# Actions:\n",
    "### Determine if it makes financial sense to have an additional medical staffing at these times in summary section ."
   ]
  },
  {
   "cell_type": "markdown",
   "metadata": {},
   "source": [
    "## The full project here : https://github.com/Abdulqader-Asiri/Portfolio_Projects"
   ]
  }
 ],
 "metadata": {
  "environment": {
   "kernel": "conda-root-py",
   "name": "workbench-notebooks.m119",
   "type": "gcloud",
   "uri": "us-docker.pkg.dev/deeplearning-platform-release/gcr.io/workbench-notebooks:m119"
  },
  "kaggle": {
   "accelerator": "none",
   "dataSources": [
    {
     "datasetId": 3131907,
     "sourceId": 5406107,
     "sourceType": "datasetVersion"
    }
   ],
   "dockerImageVersionId": 30458,
   "isGpuEnabled": false,
   "isInternetEnabled": true,
   "language": "python",
   "sourceType": "notebook"
  },
  "kernelspec": {
   "display_name": "Python 3 (ipykernel) (Local)",
   "language": "python",
   "name": "conda-root-py"
  },
  "language_info": {
   "codemirror_mode": {
    "name": "ipython",
    "version": 3
   },
   "file_extension": ".py",
   "mimetype": "text/x-python",
   "name": "python",
   "nbconvert_exporter": "python",
   "pygments_lexer": "ipython3",
   "version": "3.10.14"
  }
 },
 "nbformat": 4,
 "nbformat_minor": 4
}
